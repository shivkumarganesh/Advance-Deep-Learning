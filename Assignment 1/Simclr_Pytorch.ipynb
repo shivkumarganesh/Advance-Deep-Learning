{
  "nbformat": 4,
  "nbformat_minor": 0,
  "metadata": {
    "colab": {
      "name": "Simclr-Pytorch.ipynb",
      "provenance": [],
      "collapsed_sections": [],
      "authorship_tag": "ABX9TyPgtG7FGAbScwLDVVho3USD",
      "include_colab_link": true
    },
    "kernelspec": {
      "name": "python3",
      "display_name": "Python 3"
    },
    "language_info": {
      "name": "python"
    },
    "accelerator": "GPU"
  },
  "cells": [
    {
      "cell_type": "markdown",
      "metadata": {
        "id": "view-in-github",
        "colab_type": "text"
      },
      "source": [
        "<a href=\"https://colab.research.google.com/github/shivkumarganesh/Advance-Deep-Learning/blob/main/Assignment%201/Simclr_Pytorch.ipynb\" target=\"_parent\"><img src=\"https://colab.research.google.com/assets/colab-badge.svg\" alt=\"Open In Colab\"/></a>"
      ]
    },
    {
      "cell_type": "markdown",
      "metadata": {
        "id": "YOwY2MsZF2Nk"
      },
      "source": [
        "# Imports for implementing SimClr"
      ]
    },
    {
      "cell_type": "code",
      "metadata": {
        "id": "nzK8z1pdC8tp"
      },
      "source": [
        "import os\n",
        "import torch\n",
        "import zipfile\n",
        "import numpy as np\n",
        "import matplotlib.pyplot as plt\n",
        "import seaborn as sns\n",
        "\n",
        "# Imports Related to image manipulation\n",
        "from PIL import Image\n",
        "from collections import OrderedDict, namedtuple\n",
        "\n",
        "# PyTorch Related Imports\n",
        "import torch.nn as nn\n",
        "import torchvision.transforms as transforms\n",
        "from torchvision.models import resnet18"
      ],
      "execution_count": 1,
      "outputs": []
    },
    {
      "cell_type": "markdown",
      "metadata": {
        "id": "qhARgE50Jy2N"
      },
      "source": [
        "# Loss Plotting Utility Function"
      ]
    },
    {
      "cell_type": "code",
      "metadata": {
        "id": "ERGRipfTJyNV"
      },
      "source": [
        "def plot_losses(arr, legend_name):\n",
        "    plt.figure(figsize=(10, 10))\n",
        "    sns.set_style('darkgrid')\n",
        "    plt.plot(arr)\n",
        "    plt.xlabel('Steps')\n",
        "    plt.ylabel('Loss')\n",
        "    plt.show()"
      ],
      "execution_count": 2,
      "outputs": []
    },
    {
      "cell_type": "markdown",
      "metadata": {
        "id": "Le2KaqKrGTWa"
      },
      "source": [
        "# Downloading images from imagenet\n",
        "\n",
        "We have used imagenet 5 categories dataset. This has a total of 1250 train and 250 test images."
      ]
    },
    {
      "cell_type": "code",
      "metadata": {
        "colab": {
          "base_uri": "https://localhost:8080/"
        },
        "id": "7RHtR6g1FqZn",
        "outputId": "6488a5e0-a451-48eb-e9de-4eeb6198bc41"
      },
      "source": [
        "!gdown https://drive.google.com/uc?id=1x3BSoqoe76FcWdbagLj6Mx6_2EAJ982g\n",
        "\n",
        "with zipfile.ZipFile('milli_imagenet.zip', 'r') as zip_ref:\n",
        "  zip_ref.extractall('/content/')"
      ],
      "execution_count": 3,
      "outputs": [
        {
          "output_type": "stream",
          "name": "stdout",
          "text": [
            "Downloading...\n",
            "From: https://drive.google.com/uc?id=1x3BSoqoe76FcWdbagLj6Mx6_2EAJ982g\n",
            "To: /content/milli_imagenet.zip\n",
            "92.9MB [00:01, 86.8MB/s]\n"
          ]
        }
      ]
    },
    {
      "cell_type": "markdown",
      "metadata": {
        "id": "kNxQzyB_HTQ1"
      },
      "source": [
        "## Labels that are available in mini_imagenet\n",
        "\n",
        "We can see that there are five labels in mini imagenet"
      ]
    },
    {
      "cell_type": "code",
      "metadata": {
        "colab": {
          "base_uri": "https://localhost:8080/"
        },
        "id": "G2Z8dNd7HK04",
        "outputId": "adb806da-16c2-41a2-d859-e25fb71854fe"
      },
      "source": [
        "!cat milli_imagenet/mapper.json"
      ],
      "execution_count": 4,
      "outputs": [
        {
          "output_type": "stream",
          "name": "stdout",
          "text": [
            "{\"car\": 0, \"airplane\": 1, \"elephant\": 2, \"dog\": 3, \"cat\": 4}\n"
          ]
        }
      ]
    },
    {
      "cell_type": "markdown",
      "metadata": {
        "id": "M0Vnhfz8HphS"
      },
      "source": [
        "# Training DataSet\n",
        "\n",
        "The training data consist of 5 different images and these images needs to be augmented in order to produce samples of positive and negative images."
      ]
    },
    {
      "cell_type": "code",
      "metadata": {
        "id": "OzQpgCL9DBtn"
      },
      "source": [
        "class TrainDataset(torch.utils.data.Dataset):\n",
        "    def __init__(self, args):\n",
        "        self.args = args\n",
        "        with open(os.path.join(args.datapath, \"train\",\"names.txt\")) as f:\n",
        "            self.filenames = f.read().split('\\n')\n",
        " \n",
        "    def __len__(self):\n",
        "        return len(self.filenames)\n",
        "\n",
        "    def tensorify(self, img):\n",
        "        return transforms.Normalize((0.5, 0.5, 0.5), (0.5, 0.5, 0.5))(\n",
        "            transforms.ToTensor()(img)\n",
        "            )\n",
        "    # This function produced distortion in colors based on arguments s\n",
        "    def get_color_distortion(self, s=1.0):\n",
        "        color_jitter = transforms.ColorJitter(0.8 * s, 0.8 * s, 0.8 * s, 0.2 * s)\n",
        "        rnd_color_jitter =  transforms.RandomApply([color_jitter], p=0.8)\n",
        "        rnd_gray =  transforms.RandomGrayscale(p=0.2)\n",
        "        color_distort =  transforms.Compose([rnd_color_jitter, rnd_gray])\n",
        "        return color_distort\n",
        "\n",
        "    # Helps in augmentation of images\n",
        "    def augmented_image(self, img):\n",
        "        return self.get_color_distortion(1)(\n",
        "            transforms.RandomResizedCrop(224)(img)\n",
        "            )    \n",
        "\n",
        "    def __getitem__(self, idx):\n",
        "        img = transforms.Resize((224, 224))(\n",
        "                                Image.open(os.path.join(args.datapath, 'train', self.filenames[idx])).convert('RGB')\n",
        "                            )\n",
        "        return {\n",
        "        'image1':self.tensorify(\n",
        "            self.augmented_image(img)\n",
        "            ), \n",
        "        'image2': self.tensorify(\n",
        "            self.augmented_image(img)\n",
        "            )\n",
        "        }"
      ],
      "execution_count": 5,
      "outputs": []
    },
    {
      "cell_type": "markdown",
      "metadata": {
        "id": "cwpTG779IQUu"
      },
      "source": [
        "# Defining NT-Xent Loss Function or Noramlized Temperature Scaled Cross Entropy Loss"
      ]
    },
    {
      "cell_type": "code",
      "metadata": {
        "id": "4ww5zNN8DXx6"
      },
      "source": [
        "tau = 0.05\n",
        "\n",
        "# Function that calculates NT-Xent\n",
        "def loss_function(a, b):\n",
        "    a_norm = torch.norm(a, dim=1).reshape(-1, 1)\n",
        "    a_cap = torch.div(a, a_norm)\n",
        "    b_norm = torch.norm(b, dim=1).reshape(-1, 1)\n",
        "    b_cap = torch.div(b, b_norm)\n",
        "    a_cap_b_cap = torch.cat([a_cap, b_cap], dim=0)\n",
        "    a_cap_b_cap_transpose = torch.t(a_cap_b_cap)\n",
        "    b_cap_a_cap = torch.cat([b_cap, a_cap], dim=0)\n",
        "    sim = torch.mm(a_cap_b_cap, a_cap_b_cap_transpose)\n",
        "    sim_by_tau = torch.div(sim, tau)\n",
        "    exp_sim_by_tau = torch.exp(sim_by_tau)\n",
        "    sum_of_rows = torch.sum(exp_sim_by_tau, dim=1)\n",
        "    exp_sim_by_tau_diag = torch.diag(exp_sim_by_tau)\n",
        "    numerators = torch.exp(torch.div(torch.nn.CosineSimilarity()(a_cap_b_cap, b_cap_a_cap), tau))\n",
        "    denominators = sum_of_rows - exp_sim_by_tau_diag\n",
        "    num_by_den = torch.div(numerators, denominators)\n",
        "    neglog_num_by_den = -torch.log(num_by_den)\n",
        "    return torch.mean(neglog_num_by_den)"
      ],
      "execution_count": 6,
      "outputs": []
    },
    {
      "cell_type": "markdown",
      "metadata": {
        "id": "zzwZmyGrKHnR"
      },
      "source": [
        "# Defining the resnet 18 model and initializing the first layers of it"
      ]
    },
    {
      "cell_type": "code",
      "metadata": {
        "id": "9qdCk2EBDTog"
      },
      "source": [
        "def get_model(args):\n",
        "    resnet = resnet18(pretrained=False)\n",
        "\n",
        "    head = nn.Sequential(OrderedDict([\n",
        "        ('fc1', nn.Linear(resnet.fc.in_features, 100)),\n",
        "        ('added_relu1', nn.ReLU(inplace=True)),\n",
        "        ('fc2', nn.Linear(100, 100)),\n",
        "        ('added_relu2', nn.ReLU(inplace=True)),\n",
        "        ('fc3', nn.Linear(100, 100))\n",
        "    ]))\n",
        "\n",
        "    resnet.fc = head\n",
        "\n",
        "    if args.multiple_gpus:\n",
        "        resnet = nn.DataParallel(resnet)\n",
        "\n",
        "    resnet.to(args.device)\n",
        "\n",
        "    return resnet"
      ],
      "execution_count": 7,
      "outputs": []
    },
    {
      "cell_type": "markdown",
      "metadata": {
        "id": "l5HGpsIdKO9M"
      },
      "source": [
        "# SimClR implementation Training loop "
      ]
    },
    {
      "cell_type": "code",
      "metadata": {
        "id": "XV5yVLURDQdZ"
      },
      "source": [
        "class SimCLR:\n",
        "    def __init__(self, model, optimizer, dataloaders, loss_fn):\n",
        "        self.model = model\n",
        "        self.optimizer = optimizer\n",
        "        self.dataloaders = dataloaders\n",
        "        self.loss_fn = loss_fn\n",
        "\n",
        "    def train(self, args, num_epochs, log_interval):\n",
        "        batch_losses = []\n",
        "\n",
        "        self.model.train()\n",
        "    \n",
        "        # run a for loop for num_epochs\n",
        "        for epoch in range(num_epochs):\n",
        "\n",
        "            # run a for loop for each batch\n",
        "            for step, batch in enumerate(self.dataloaders['train']):\n",
        "                # zero out grads\n",
        "                self.optimizer.zero_grad()\n",
        "\n",
        "                x1 = batch['image1'].to(args.device)\n",
        "                x2 = batch['image2'].to(args.device)\n",
        "\n",
        "                # get their outputs\n",
        "                y1 = self.model(x1)\n",
        "                y2 = self.model(x2)\n",
        "\n",
        "                # get loss value\n",
        "                loss = self.loss_fn(y1, y2)\n",
        "\n",
        "                batch_losses.append(loss.cpu().data.item())\n",
        "\n",
        "                # perform backprop on loss value to get gradient values\n",
        "                loss.backward()\n",
        "\n",
        "                # run the optimizer\n",
        "                self.optimizer.step()\n",
        "                \n",
        "                if step % log_interval == 0:\n",
        "                    print(f'Epoch: {epoch} / {num_epochs} Step: {step} Loss: {loss.item()}')\n",
        "                \n",
        "                if step >= 5:\n",
        "                  break\n",
        "            \n",
        "        plot_losses(batch_losses, 'Training Losses')"
      ],
      "execution_count": 8,
      "outputs": []
    },
    {
      "cell_type": "code",
      "metadata": {
        "colab": {
          "base_uri": "https://localhost:8080/",
          "height": 1000
        },
        "id": "EFOAN3_3Ejjv",
        "outputId": "6de6dea0-7187-4120-f0b1-c5da8a373952"
      },
      "source": [
        "args = {\n",
        "    'datapath': '/content/milli_imagenet',\n",
        "    'cuda': False,\n",
        "    'batch_size': 8,\n",
        "    'num_workers': 2,\n",
        "    'multiple_gpus': False,\n",
        "}\n",
        "args['device'] = torch.device('cuda' if args['cuda'] else 'cpu')\n",
        "args = namedtuple('Args', args.keys())(*args.values())\n",
        "\n",
        "model = get_model(args)\n",
        "\n",
        "optimizer = torch.optim.Adam(\n",
        "    model.parameters(), \n",
        "    lr=0.001, \n",
        "    weight_decay=1e-4\n",
        "    )\n",
        "\n",
        "dataloaders = {}\n",
        "ds = TrainDataset(args)\n",
        "print(f'{len(ds)} images found for training')\n",
        "\n",
        "dataloaders['train'] = torch.utils.data.DataLoader(\n",
        "    ds, \n",
        "    batch_size=args.batch_size, \n",
        "    shuffle=True, \n",
        "    num_workers=args.num_workers\n",
        "    )\n",
        "\n",
        "loss_fn = loss_function\n",
        "simclrobj = SimCLR(model, optimizer, dataloaders, loss_fn)\n",
        "simclrobj.train(args, 100, 5)"
      ],
      "execution_count": 9,
      "outputs": [
        {
          "output_type": "stream",
          "name": "stdout",
          "text": [
            "1250 images found for training\n"
          ]
        },
        {
          "output_type": "stream",
          "name": "stderr",
          "text": [
            "/usr/local/lib/python3.7/dist-packages/torch/nn/functional.py:718: UserWarning: Named tensors and all their associated APIs are an experimental feature and subject to change. Please do not use them for anything important until they are released as stable. (Triggered internally at  /pytorch/c10/core/TensorImpl.h:1156.)\n",
            "  return torch.max_pool2d(input, kernel_size, stride, padding, dilation, ceil_mode)\n"
          ]
        },
        {
          "output_type": "stream",
          "name": "stdout",
          "text": [
            "Epoch: 0 / 100 Step: 0 Loss: 2.768798351287842\n",
            "Epoch: 0 / 100 Step: 5 Loss: 2.6795530319213867\n",
            "Epoch: 1 / 100 Step: 0 Loss: 2.688365936279297\n",
            "Epoch: 1 / 100 Step: 5 Loss: 2.6406171321868896\n",
            "Epoch: 2 / 100 Step: 0 Loss: 2.639862060546875\n",
            "Epoch: 2 / 100 Step: 5 Loss: 2.627345561981201\n",
            "Epoch: 3 / 100 Step: 0 Loss: 2.7450709342956543\n",
            "Epoch: 3 / 100 Step: 5 Loss: 2.678502082824707\n",
            "Epoch: 4 / 100 Step: 0 Loss: 2.6711740493774414\n",
            "Epoch: 4 / 100 Step: 5 Loss: 2.6389083862304688\n",
            "Epoch: 5 / 100 Step: 0 Loss: 2.5941123962402344\n",
            "Epoch: 5 / 100 Step: 5 Loss: 2.784029483795166\n",
            "Epoch: 6 / 100 Step: 0 Loss: 2.499142646789551\n",
            "Epoch: 6 / 100 Step: 5 Loss: 2.585721254348755\n",
            "Epoch: 7 / 100 Step: 0 Loss: 2.5323197841644287\n",
            "Epoch: 7 / 100 Step: 5 Loss: 2.742908000946045\n",
            "Epoch: 8 / 100 Step: 0 Loss: 2.594161033630371\n",
            "Epoch: 8 / 100 Step: 5 Loss: 2.746391773223877\n",
            "Epoch: 9 / 100 Step: 0 Loss: 2.5831339359283447\n",
            "Epoch: 9 / 100 Step: 5 Loss: 2.6067955493927\n",
            "Epoch: 10 / 100 Step: 0 Loss: 2.6627097129821777\n",
            "Epoch: 10 / 100 Step: 5 Loss: 2.692814350128174\n",
            "Epoch: 11 / 100 Step: 0 Loss: 2.6082112789154053\n",
            "Epoch: 11 / 100 Step: 5 Loss: 2.7767882347106934\n",
            "Epoch: 12 / 100 Step: 0 Loss: 2.6685497760772705\n",
            "Epoch: 12 / 100 Step: 5 Loss: 2.597639322280884\n",
            "Epoch: 13 / 100 Step: 0 Loss: 2.7488818168640137\n",
            "Epoch: 13 / 100 Step: 5 Loss: 2.723241090774536\n",
            "Epoch: 14 / 100 Step: 0 Loss: 2.5475411415100098\n",
            "Epoch: 14 / 100 Step: 5 Loss: 2.7835445404052734\n",
            "Epoch: 15 / 100 Step: 0 Loss: 2.6416611671447754\n",
            "Epoch: 15 / 100 Step: 5 Loss: 2.636026620864868\n",
            "Epoch: 16 / 100 Step: 0 Loss: 2.4981894493103027\n",
            "Epoch: 16 / 100 Step: 5 Loss: 2.6892354488372803\n",
            "Epoch: 17 / 100 Step: 0 Loss: 2.6593174934387207\n",
            "Epoch: 17 / 100 Step: 5 Loss: 2.7798409461975098\n",
            "Epoch: 18 / 100 Step: 0 Loss: 2.680851936340332\n",
            "Epoch: 18 / 100 Step: 5 Loss: 2.7270257472991943\n",
            "Epoch: 19 / 100 Step: 0 Loss: 2.738664150238037\n",
            "Epoch: 19 / 100 Step: 5 Loss: 2.616483449935913\n",
            "Epoch: 20 / 100 Step: 0 Loss: 2.6171774864196777\n",
            "Epoch: 20 / 100 Step: 5 Loss: 2.6235384941101074\n",
            "Epoch: 21 / 100 Step: 0 Loss: 2.7272043228149414\n",
            "Epoch: 21 / 100 Step: 5 Loss: 2.7233850955963135\n",
            "Epoch: 22 / 100 Step: 0 Loss: 2.673959255218506\n",
            "Epoch: 22 / 100 Step: 5 Loss: 2.6926887035369873\n",
            "Epoch: 23 / 100 Step: 0 Loss: 2.8025765419006348\n",
            "Epoch: 23 / 100 Step: 5 Loss: 2.6259384155273438\n",
            "Epoch: 24 / 100 Step: 0 Loss: 2.663259267807007\n",
            "Epoch: 24 / 100 Step: 5 Loss: 2.8400747776031494\n",
            "Epoch: 25 / 100 Step: 0 Loss: 2.7903995513916016\n",
            "Epoch: 25 / 100 Step: 5 Loss: 2.5999300479888916\n",
            "Epoch: 26 / 100 Step: 0 Loss: 2.745765209197998\n",
            "Epoch: 26 / 100 Step: 5 Loss: 2.639862298965454\n",
            "Epoch: 27 / 100 Step: 0 Loss: 2.6000664234161377\n",
            "Epoch: 27 / 100 Step: 5 Loss: 2.807821750640869\n",
            "Epoch: 28 / 100 Step: 0 Loss: 2.46903133392334\n",
            "Epoch: 28 / 100 Step: 5 Loss: 2.485582113265991\n",
            "Epoch: 29 / 100 Step: 0 Loss: 2.4013490676879883\n",
            "Epoch: 29 / 100 Step: 5 Loss: 2.664142370223999\n",
            "Epoch: 30 / 100 Step: 0 Loss: 2.64021372795105\n",
            "Epoch: 30 / 100 Step: 5 Loss: 2.5442848205566406\n",
            "Epoch: 31 / 100 Step: 0 Loss: 2.750408172607422\n",
            "Epoch: 31 / 100 Step: 5 Loss: 2.7468321323394775\n",
            "Epoch: 32 / 100 Step: 0 Loss: 2.7142319679260254\n",
            "Epoch: 32 / 100 Step: 5 Loss: 2.527592897415161\n",
            "Epoch: 33 / 100 Step: 0 Loss: 2.6249701976776123\n",
            "Epoch: 33 / 100 Step: 5 Loss: 2.8131537437438965\n",
            "Epoch: 34 / 100 Step: 0 Loss: 2.4673523902893066\n",
            "Epoch: 34 / 100 Step: 5 Loss: 2.548868179321289\n",
            "Epoch: 35 / 100 Step: 0 Loss: 2.5865345001220703\n",
            "Epoch: 35 / 100 Step: 5 Loss: 2.8033018112182617\n",
            "Epoch: 36 / 100 Step: 0 Loss: 2.575127363204956\n",
            "Epoch: 36 / 100 Step: 5 Loss: 2.5355064868927\n",
            "Epoch: 37 / 100 Step: 0 Loss: 2.4963982105255127\n",
            "Epoch: 37 / 100 Step: 5 Loss: 2.4970316886901855\n",
            "Epoch: 38 / 100 Step: 0 Loss: 2.400057315826416\n",
            "Epoch: 38 / 100 Step: 5 Loss: 2.6872782707214355\n",
            "Epoch: 39 / 100 Step: 0 Loss: 2.8578412532806396\n",
            "Epoch: 39 / 100 Step: 5 Loss: 2.6521995067596436\n",
            "Epoch: 40 / 100 Step: 0 Loss: 2.6630330085754395\n",
            "Epoch: 40 / 100 Step: 5 Loss: 2.6295011043548584\n",
            "Epoch: 41 / 100 Step: 0 Loss: 2.6784584522247314\n",
            "Epoch: 41 / 100 Step: 5 Loss: 2.620779275894165\n",
            "Epoch: 42 / 100 Step: 0 Loss: 2.596115827560425\n",
            "Epoch: 42 / 100 Step: 5 Loss: 2.5855932235717773\n",
            "Epoch: 43 / 100 Step: 0 Loss: 2.634469509124756\n",
            "Epoch: 43 / 100 Step: 5 Loss: 2.5764987468719482\n",
            "Epoch: 44 / 100 Step: 0 Loss: 2.564605951309204\n",
            "Epoch: 44 / 100 Step: 5 Loss: 2.4547576904296875\n",
            "Epoch: 45 / 100 Step: 0 Loss: 2.5594115257263184\n",
            "Epoch: 45 / 100 Step: 5 Loss: 2.45339298248291\n",
            "Epoch: 46 / 100 Step: 0 Loss: 2.5351016521453857\n",
            "Epoch: 46 / 100 Step: 5 Loss: 2.670260429382324\n",
            "Epoch: 47 / 100 Step: 0 Loss: 2.645756244659424\n",
            "Epoch: 47 / 100 Step: 5 Loss: 2.465151309967041\n",
            "Epoch: 48 / 100 Step: 0 Loss: 2.7529335021972656\n",
            "Epoch: 48 / 100 Step: 5 Loss: 2.5399091243743896\n",
            "Epoch: 49 / 100 Step: 0 Loss: 2.6230857372283936\n",
            "Epoch: 49 / 100 Step: 5 Loss: 2.364650011062622\n",
            "Epoch: 50 / 100 Step: 0 Loss: 2.5514252185821533\n",
            "Epoch: 50 / 100 Step: 5 Loss: 3.0238380432128906\n",
            "Epoch: 51 / 100 Step: 0 Loss: 2.5469577312469482\n",
            "Epoch: 51 / 100 Step: 5 Loss: 2.3997039794921875\n",
            "Epoch: 52 / 100 Step: 0 Loss: 2.806546449661255\n",
            "Epoch: 52 / 100 Step: 5 Loss: 2.266134262084961\n",
            "Epoch: 53 / 100 Step: 0 Loss: 2.610352039337158\n",
            "Epoch: 53 / 100 Step: 5 Loss: 3.025479316711426\n",
            "Epoch: 54 / 100 Step: 0 Loss: 2.9333417415618896\n",
            "Epoch: 54 / 100 Step: 5 Loss: 2.5257129669189453\n",
            "Epoch: 55 / 100 Step: 0 Loss: 2.469391345977783\n",
            "Epoch: 55 / 100 Step: 5 Loss: 2.794667959213257\n",
            "Epoch: 56 / 100 Step: 0 Loss: 2.5354552268981934\n",
            "Epoch: 56 / 100 Step: 5 Loss: 2.6778597831726074\n",
            "Epoch: 57 / 100 Step: 0 Loss: 2.578407049179077\n",
            "Epoch: 57 / 100 Step: 5 Loss: 2.670403003692627\n",
            "Epoch: 58 / 100 Step: 0 Loss: 2.706998348236084\n",
            "Epoch: 58 / 100 Step: 5 Loss: 2.497786283493042\n",
            "Epoch: 59 / 100 Step: 0 Loss: 2.834510326385498\n",
            "Epoch: 59 / 100 Step: 5 Loss: 2.8606345653533936\n",
            "Epoch: 60 / 100 Step: 0 Loss: 2.4644036293029785\n",
            "Epoch: 60 / 100 Step: 5 Loss: 2.6065380573272705\n",
            "Epoch: 61 / 100 Step: 0 Loss: 2.6813604831695557\n",
            "Epoch: 61 / 100 Step: 5 Loss: 2.6481356620788574\n",
            "Epoch: 62 / 100 Step: 0 Loss: 2.697572708129883\n",
            "Epoch: 62 / 100 Step: 5 Loss: 2.53971266746521\n",
            "Epoch: 63 / 100 Step: 0 Loss: 2.7174150943756104\n",
            "Epoch: 63 / 100 Step: 5 Loss: 2.7184767723083496\n",
            "Epoch: 64 / 100 Step: 0 Loss: 2.4111461639404297\n",
            "Epoch: 64 / 100 Step: 5 Loss: 2.8036048412323\n",
            "Epoch: 65 / 100 Step: 0 Loss: 2.6641526222229004\n",
            "Epoch: 65 / 100 Step: 5 Loss: 2.415912389755249\n",
            "Epoch: 66 / 100 Step: 0 Loss: 2.577044725418091\n",
            "Epoch: 66 / 100 Step: 5 Loss: 2.618917465209961\n",
            "Epoch: 67 / 100 Step: 0 Loss: 2.7121078968048096\n",
            "Epoch: 67 / 100 Step: 5 Loss: 2.436574697494507\n",
            "Epoch: 68 / 100 Step: 0 Loss: 2.5474038124084473\n",
            "Epoch: 68 / 100 Step: 5 Loss: 2.4998326301574707\n",
            "Epoch: 69 / 100 Step: 0 Loss: 2.4051713943481445\n",
            "Epoch: 69 / 100 Step: 5 Loss: 2.8301405906677246\n",
            "Epoch: 70 / 100 Step: 0 Loss: 2.592337131500244\n",
            "Epoch: 70 / 100 Step: 5 Loss: 2.529625415802002\n",
            "Epoch: 71 / 100 Step: 0 Loss: 2.670196056365967\n",
            "Epoch: 71 / 100 Step: 5 Loss: 2.3745837211608887\n",
            "Epoch: 72 / 100 Step: 0 Loss: 3.011897087097168\n",
            "Epoch: 72 / 100 Step: 5 Loss: 2.8714730739593506\n",
            "Epoch: 73 / 100 Step: 0 Loss: 2.389742851257324\n",
            "Epoch: 73 / 100 Step: 5 Loss: 2.6755857467651367\n",
            "Epoch: 74 / 100 Step: 0 Loss: 2.7284364700317383\n",
            "Epoch: 74 / 100 Step: 5 Loss: 2.7577614784240723\n",
            "Epoch: 75 / 100 Step: 0 Loss: 2.565643072128296\n",
            "Epoch: 75 / 100 Step: 5 Loss: 2.3492350578308105\n",
            "Epoch: 76 / 100 Step: 0 Loss: 2.787008285522461\n",
            "Epoch: 76 / 100 Step: 5 Loss: 2.6213912963867188\n",
            "Epoch: 77 / 100 Step: 0 Loss: 2.7331383228302\n",
            "Epoch: 77 / 100 Step: 5 Loss: 2.510684013366699\n",
            "Epoch: 78 / 100 Step: 0 Loss: 2.8258585929870605\n",
            "Epoch: 78 / 100 Step: 5 Loss: 2.722276449203491\n",
            "Epoch: 79 / 100 Step: 0 Loss: 2.5707037448883057\n",
            "Epoch: 79 / 100 Step: 5 Loss: 2.589909553527832\n",
            "Epoch: 80 / 100 Step: 0 Loss: 2.7425389289855957\n",
            "Epoch: 80 / 100 Step: 5 Loss: 2.7490129470825195\n",
            "Epoch: 81 / 100 Step: 0 Loss: 2.6426820755004883\n",
            "Epoch: 81 / 100 Step: 5 Loss: 2.635573625564575\n",
            "Epoch: 82 / 100 Step: 0 Loss: 2.636970043182373\n",
            "Epoch: 82 / 100 Step: 5 Loss: 2.6755056381225586\n",
            "Epoch: 83 / 100 Step: 0 Loss: 2.8010611534118652\n",
            "Epoch: 83 / 100 Step: 5 Loss: 2.6352672576904297\n",
            "Epoch: 84 / 100 Step: 0 Loss: 2.5865800380706787\n",
            "Epoch: 84 / 100 Step: 5 Loss: 2.669064998626709\n",
            "Epoch: 85 / 100 Step: 0 Loss: 2.6005091667175293\n",
            "Epoch: 85 / 100 Step: 5 Loss: 2.6110761165618896\n",
            "Epoch: 86 / 100 Step: 0 Loss: 2.792079448699951\n",
            "Epoch: 86 / 100 Step: 5 Loss: 2.5901269912719727\n",
            "Epoch: 87 / 100 Step: 0 Loss: 2.5700736045837402\n",
            "Epoch: 87 / 100 Step: 5 Loss: 3.1899805068969727\n",
            "Epoch: 88 / 100 Step: 0 Loss: 2.6910171508789062\n",
            "Epoch: 88 / 100 Step: 5 Loss: 2.378211498260498\n",
            "Epoch: 89 / 100 Step: 0 Loss: 2.716381788253784\n",
            "Epoch: 89 / 100 Step: 5 Loss: 2.7452199459075928\n",
            "Epoch: 90 / 100 Step: 0 Loss: 2.406453847885132\n",
            "Epoch: 90 / 100 Step: 5 Loss: 2.7015528678894043\n",
            "Epoch: 91 / 100 Step: 0 Loss: 2.7103867530822754\n",
            "Epoch: 91 / 100 Step: 5 Loss: 2.6687633991241455\n",
            "Epoch: 92 / 100 Step: 0 Loss: 2.6683812141418457\n",
            "Epoch: 92 / 100 Step: 5 Loss: 2.658938407897949\n",
            "Epoch: 93 / 100 Step: 0 Loss: 2.5804250240325928\n",
            "Epoch: 93 / 100 Step: 5 Loss: 2.474031448364258\n",
            "Epoch: 94 / 100 Step: 0 Loss: 2.782855749130249\n",
            "Epoch: 94 / 100 Step: 5 Loss: 2.4856107234954834\n",
            "Epoch: 95 / 100 Step: 0 Loss: 2.868239164352417\n",
            "Epoch: 95 / 100 Step: 5 Loss: 2.6640877723693848\n",
            "Epoch: 96 / 100 Step: 0 Loss: 2.796452283859253\n",
            "Epoch: 96 / 100 Step: 5 Loss: 2.6331305503845215\n",
            "Epoch: 97 / 100 Step: 0 Loss: 2.583913803100586\n",
            "Epoch: 97 / 100 Step: 5 Loss: 2.555075168609619\n",
            "Epoch: 98 / 100 Step: 0 Loss: 2.440307855606079\n",
            "Epoch: 98 / 100 Step: 5 Loss: 2.6201155185699463\n",
            "Epoch: 99 / 100 Step: 0 Loss: 2.679708957672119\n",
            "Epoch: 99 / 100 Step: 5 Loss: 2.7959182262420654\n"
          ]
        },
        {
          "output_type": "display_data",
          "data": {
            "image/png": "[encoded data removed]",
            "text/plain": [
              "<Figure size 720x720 with 1 Axes>"
            ]
          },
          "metadata": {
            "needs_background": "light"
          }
        }
      ]
    },
    {
      "cell_type": "markdown",
      "metadata": {
        "id": "7CiH3XAbghh8"
      },
      "source": [
        "We can see that in 40-50 steps the error subsides to a lower limit an stays constant."
      ]
    },
    {
      "cell_type": "code",
      "metadata": {
        "id": "qK-Ht8GwgpMW"
      },
      "source": [
        ""
      ],
      "execution_count": null,
      "outputs": []
    }
  ]
}