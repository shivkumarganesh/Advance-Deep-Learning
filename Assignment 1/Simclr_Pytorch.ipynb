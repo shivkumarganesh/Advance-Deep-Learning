{
  "nbformat": 4,
  "nbformat_minor": 0,
  "metadata": {
    "colab": {
      "name": "Simclr-Pytorch.ipynb",
      "provenance": [],
      "collapsed_sections": [],
      "authorship_tag": "ABX9TyMzQYU/HJCiTF3wqmuE967E",
      "include_colab_link": true
    },
    "kernelspec": {
      "name": "python3",
      "display_name": "Python 3"
    },
    "language_info": {
      "name": "python"
    }
  },
  "cells": [
    {
      "cell_type": "markdown",
      "metadata": {
        "id": "view-in-github",
        "colab_type": "text"
      },
      "source": [
        "<a href=\"https://colab.research.google.com/github/shivkumarganesh/Advance-Deep-Learning/blob/main/Assignment%201/Simclr_Pytorch.ipynb\" target=\"_parent\"><img src=\"https://colab.research.google.com/assets/colab-badge.svg\" alt=\"Open In Colab\"/></a>"
      ]
    },
    {
      "cell_type": "markdown",
      "metadata": {
        "id": "YOwY2MsZF2Nk"
      },
      "source": [
        "# Imports for implementing SimClr"
      ]
    },
    {
      "cell_type": "code",
      "metadata": {
        "id": "nzK8z1pdC8tp"
      },
      "source": [
        "import os\n",
        "import torch\n",
        "import zipfile\n",
        "import numpy as np\n",
        "import matplotlib.pyplot as plt\n",
        "import seaborn as sns\n",
        "\n",
        "# Imports Related to image manipulation\n",
        "from PIL import Image\n",
        "from collections import OrderedDict, namedtuple\n",
        "\n",
        "# PyTorch Related Imports\n",
        "import torch.nn as nn\n",
        "import torchvision.transforms as transforms\n",
        "from torchvision.models import resnet18"
      ],
      "execution_count": 44,
      "outputs": []
    },
    {
      "cell_type": "markdown",
      "metadata": {
        "id": "qhARgE50Jy2N"
      },
      "source": [
        "# Loss Plotting Utility Function"
      ]
    },
    {
      "cell_type": "code",
      "metadata": {
        "id": "ERGRipfTJyNV"
      },
      "source": [
        "def plot_losses(arr, legend_name):\n",
        "    plt.figure(figsize=(10, 10))\n",
        "    sns.set_style('darkgrid')\n",
        "    plt.plot(arr)\n",
        "    plt.xlabel('Steps')\n",
        "    plt.ylabel('Loss')\n",
        "    plt.show()"
      ],
      "execution_count": 45,
      "outputs": []
    },
    {
      "cell_type": "markdown",
      "metadata": {
        "id": "Le2KaqKrGTWa"
      },
      "source": [
        "# Downloading images from imagenet\n",
        "\n",
        "We have used imagenet 5 categories dataset. This has a total of 1250 train and 250 test images."
      ]
    },
    {
      "cell_type": "code",
      "metadata": {
        "colab": {
          "base_uri": "https://localhost:8080/"
        },
        "id": "7RHtR6g1FqZn",
        "outputId": "ba77f46f-66b4-4fa8-f224-34f50749ea5f"
      },
      "source": [
        "!gdown https://drive.google.com/uc?id=1x3BSoqoe76FcWdbagLj6Mx6_2EAJ982g\n",
        "\n",
        "with zipfile.ZipFile('milli_imagenet.zip', 'r') as zip_ref:\n",
        "  zip_ref.extractall('/content/')"
      ],
      "execution_count": 46,
      "outputs": [
        {
          "output_type": "stream",
          "name": "stdout",
          "text": [
            "Downloading...\n",
            "From: https://drive.google.com/uc?id=1x3BSoqoe76FcWdbagLj6Mx6_2EAJ982g\n",
            "To: /content/milli_imagenet.zip\n",
            "92.9MB [00:00, 149MB/s]\n"
          ]
        }
      ]
    },
    {
      "cell_type": "markdown",
      "metadata": {
        "id": "kNxQzyB_HTQ1"
      },
      "source": [
        "## Labels that are available in mini_imagenet\n",
        "\n",
        "We can see that there are five labels in mini imagenet"
      ]
    },
    {
      "cell_type": "code",
      "metadata": {
        "colab": {
          "base_uri": "https://localhost:8080/"
        },
        "id": "G2Z8dNd7HK04",
        "outputId": "631acfd6-0550-460c-8186-5487393a65f5"
      },
      "source": [
        "!cat milli_imagenet/mapper.json"
      ],
      "execution_count": 47,
      "outputs": [
        {
          "output_type": "stream",
          "name": "stdout",
          "text": [
            "{\"car\": 0, \"airplane\": 1, \"elephant\": 2, \"dog\": 3, \"cat\": 4}\n"
          ]
        }
      ]
    },
    {
      "cell_type": "markdown",
      "metadata": {
        "id": "M0Vnhfz8HphS"
      },
      "source": [
        "# Training DataSet\n",
        "\n",
        "The training data consist of 5 different images and these images needs to be augmented in order to produce samples of positive and negative images."
      ]
    },
    {
      "cell_type": "code",
      "metadata": {
        "id": "OzQpgCL9DBtn"
      },
      "source": [
        "class TrainDataset(torch.utils.data.Dataset):\n",
        "    def __init__(self, args):\n",
        "        self.args = args\n",
        "        with open(os.path.join(args.datapath, \"train\",\"names.txt\")) as f:\n",
        "            self.filenames = f.read().split('\\n')\n",
        " \n",
        "    def __len__(self):\n",
        "        return len(self.filenames)\n",
        "\n",
        "    def tensorify(self, img):\n",
        "        return transforms.Normalize((0.5, 0.5, 0.5), (0.5, 0.5, 0.5))(\n",
        "            transforms.ToTensor()(img)\n",
        "            )\n",
        "    # This function produced distortion in colors based on arguments s\n",
        "    def get_color_distortion(self, s=1.0):\n",
        "        color_jitter = transforms.ColorJitter(0.8 * s, 0.8 * s, 0.8 * s, 0.2 * s)\n",
        "        rnd_color_jitter =  transforms.RandomApply([color_jitter], p=0.8)\n",
        "        rnd_gray =  transforms.RandomGrayscale(p=0.2)\n",
        "        color_distort =  transforms.Compose([rnd_color_jitter, rnd_gray])\n",
        "        return color_distort\n",
        "\n",
        "    # Helps in augmentation of images\n",
        "    def augmented_image(self, img):\n",
        "        return self.get_color_distortion(1)(\n",
        "            transforms.RandomResizedCrop(224)(img)\n",
        "            )    \n",
        "\n",
        "    def __getitem__(self, idx):\n",
        "        img = transforms.Resize((224, 224))(\n",
        "                                Image.open(os.path.join(args.datapath, 'train', self.filenames[idx])).convert('RGB')\n",
        "                            )\n",
        "        return {\n",
        "        'image1':self.tensorify(\n",
        "            self.augmented_image(img)\n",
        "            ), \n",
        "        'image2': self.tensorify(\n",
        "            self.augmented_image(img)\n",
        "            )\n",
        "        }"
      ],
      "execution_count": 48,
      "outputs": []
    },
    {
      "cell_type": "markdown",
      "metadata": {
        "id": "cwpTG779IQUu"
      },
      "source": [
        "# Defining NT-Xent Loss Function or Noramlized Temperature Scaled Cross Entropy Loss"
      ]
    },
    {
      "cell_type": "code",
      "metadata": {
        "id": "4ww5zNN8DXx6"
      },
      "source": [
        "tau = 0.05\n",
        "\n",
        "# Function that calculates NT-Xent\n",
        "def loss_function(a, b):\n",
        "    a_norm = torch.norm(a, dim=1).reshape(-1, 1)\n",
        "    a_cap = torch.div(a, a_norm)\n",
        "    b_norm = torch.norm(b, dim=1).reshape(-1, 1)\n",
        "    b_cap = torch.div(b, b_norm)\n",
        "    a_cap_b_cap = torch.cat([a_cap, b_cap], dim=0)\n",
        "    a_cap_b_cap_transpose = torch.t(a_cap_b_cap)\n",
        "    b_cap_a_cap = torch.cat([b_cap, a_cap], dim=0)\n",
        "    sim = torch.mm(a_cap_b_cap, a_cap_b_cap_transpose)\n",
        "    sim_by_tau = torch.div(sim, tau)\n",
        "    exp_sim_by_tau = torch.exp(sim_by_tau)\n",
        "    sum_of_rows = torch.sum(exp_sim_by_tau, dim=1)\n",
        "    exp_sim_by_tau_diag = torch.diag(exp_sim_by_tau)\n",
        "    numerators = torch.exp(torch.div(torch.nn.CosineSimilarity()(a_cap_b_cap, b_cap_a_cap), tau))\n",
        "    denominators = sum_of_rows - exp_sim_by_tau_diag\n",
        "    num_by_den = torch.div(numerators, denominators)\n",
        "    neglog_num_by_den = -torch.log(num_by_den)\n",
        "    return torch.mean(neglog_num_by_den)"
      ],
      "execution_count": 49,
      "outputs": []
    },
    {
      "cell_type": "markdown",
      "metadata": {
        "id": "zzwZmyGrKHnR"
      },
      "source": [
        "# Defining the resnet 18 model and initializing the first layers of it"
      ]
    },
    {
      "cell_type": "code",
      "metadata": {
        "id": "9qdCk2EBDTog"
      },
      "source": [
        "def get_model(args):\n",
        "    resnet = resnet18(pretrained=False)\n",
        "\n",
        "    head = nn.Sequential(OrderedDict([\n",
        "        ('fc1', nn.Linear(resnet.fc.in_features, 100)),\n",
        "        ('added_relu1', nn.ReLU(inplace=True)),\n",
        "        ('fc2', nn.Linear(100, 100)),\n",
        "        ('added_relu2', nn.ReLU(inplace=True)),\n",
        "        ('fc3', nn.Linear(100, 100))\n",
        "    ]))\n",
        "\n",
        "    resnet.fc = head\n",
        "\n",
        "    if args.multiple_gpus:\n",
        "        resnet = nn.DataParallel(resnet)\n",
        "\n",
        "    resnet.to(args.device)\n",
        "\n",
        "    return resnet"
      ],
      "execution_count": 50,
      "outputs": []
    },
    {
      "cell_type": "markdown",
      "metadata": {
        "id": "l5HGpsIdKO9M"
      },
      "source": [
        "# SimClR Training loop "
      ]
    },
    {
      "cell_type": "code",
      "metadata": {
        "id": "XV5yVLURDQdZ"
      },
      "source": [
        "class SimCLR:\n",
        "    def __init__(self, model, optimizer, dataloaders, loss_fn):\n",
        "        self.model = model\n",
        "        self.optimizer = optimizer\n",
        "        self.dataloaders = dataloaders\n",
        "        self.loss_fn = loss_fn\n",
        "\n",
        "    def train(self, args, num_epochs, log_interval):\n",
        "        batch_losses = []\n",
        "\n",
        "        self.model.train()\n",
        "    \n",
        "        # run a for loop for num_epochs\n",
        "        for epoch in range(num_epochs):\n",
        "\n",
        "            # run a for loop for each batch\n",
        "            for step, batch in enumerate(self.dataloaders['train']):\n",
        "                # zero out grads\n",
        "                self.optimizer.zero_grad()\n",
        "\n",
        "                x1 = batch['image1'].to(args.device)\n",
        "                x2 = batch['image2'].to(args.device)\n",
        "\n",
        "                # get their outputs\n",
        "                y1 = self.model(x1)\n",
        "                y2 = self.model(x2)\n",
        "\n",
        "                # get loss value\n",
        "                loss = self.loss_fn(y1, y2)\n",
        "\n",
        "                batch_losses.append(loss.cpu().data.item())\n",
        "\n",
        "                # perform backprop on loss value to get gradient values\n",
        "                loss.backward()\n",
        "\n",
        "                # run the optimizer\n",
        "                self.optimizer.step()\n",
        "                \n",
        "                if step % log_interval == 0:\n",
        "                    print(f'Epoch: {epoch} / {num_epochs} Step: {step} Loss: {loss.item()}')\n",
        "                \n",
        "                if step >= 5:\n",
        "                  break\n",
        "            \n",
        "        plot_losses(batch_losses, 'Training Losses')"
      ],
      "execution_count": 51,
      "outputs": []
    },
    {
      "cell_type": "code",
      "metadata": {
        "colab": {
          "base_uri": "https://localhost:8080/",
          "height": 793
        },
        "id": "EFOAN3_3Ejjv",
        "outputId": "13f4ec7e-d6e9-4c9f-9f7a-581c1421cf0f"
      },
      "source": [
        "args = {\n",
        "    'datapath': '/content/milli_imagenet',\n",
        "    'cuda': False,\n",
        "    'batch_size': 8,\n",
        "    'num_workers': 2,\n",
        "    'multiple_gpus': False,\n",
        "}\n",
        "args['device'] = torch.device('cuda' if args['cuda'] else 'cpu')\n",
        "args = namedtuple('Args', args.keys())(*args.values())\n",
        "\n",
        "model = get_model(args)\n",
        "\n",
        "optimizer = torch.optim.Adam(\n",
        "    model.parameters(), \n",
        "    lr=0.001, \n",
        "    weight_decay=1e-4\n",
        "    )\n",
        "\n",
        "dataloaders = {}\n",
        "ds = TrainDataset(args)\n",
        "print(f'{len(ds)} images found for training')\n",
        "\n",
        "dataloaders['train'] = torch.utils.data.DataLoader(\n",
        "    ds, \n",
        "    batch_size=args.batch_size, \n",
        "    shuffle=True, \n",
        "    num_workers=args.num_workers\n",
        "    )\n",
        "\n",
        "loss_fn = loss_function\n",
        "simclrobj = SimCLR(model, optimizer, dataloaders, loss_fn)\n",
        "simclrobj.train(args, 5, 5)"
      ],
      "execution_count": 52,
      "outputs": [
        {
          "output_type": "stream",
          "name": "stdout",
          "text": [
            "1250 images found for training\n",
            "Epoch: 0 / 5 Step: 0 Loss: 2.8977513313293457\n",
            "Epoch: 0 / 5 Step: 5 Loss: 2.6979753971099854\n",
            "Epoch: 1 / 5 Step: 0 Loss: 2.5623178482055664\n",
            "Epoch: 1 / 5 Step: 5 Loss: 2.539669990539551\n",
            "Epoch: 2 / 5 Step: 0 Loss: 2.676138401031494\n",
            "Epoch: 2 / 5 Step: 5 Loss: 3.3540642261505127\n",
            "Epoch: 3 / 5 Step: 0 Loss: 2.8275110721588135\n",
            "Epoch: 3 / 5 Step: 5 Loss: 2.5597143173217773\n",
            "Epoch: 4 / 5 Step: 0 Loss: 2.5652568340301514\n",
            "Epoch: 4 / 5 Step: 5 Loss: 2.6816892623901367\n"
          ]
        },
        {
          "output_type": "display_data",
          "data": {
            "image/png": "[encoded data removed]",
            "text/plain": [
              "<Figure size 720x720 with 1 Axes>"
            ]
          },
          "metadata": {}
        }
      ]
    },
    {
      "cell_type": "markdown",
      "metadata": {
        "id": "Mk0uKFjUF00K"
      },
      "source": [
        ""
      ]
    }
  ]
}