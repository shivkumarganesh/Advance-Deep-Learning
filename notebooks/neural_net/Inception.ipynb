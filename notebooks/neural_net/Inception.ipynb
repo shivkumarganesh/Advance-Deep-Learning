{
  "nbformat": 4,
  "nbformat_minor": 0,
  "metadata": {
    "colab": {
      "name": "Inception.ipynb",
      "provenance": [],
      "collapsed_sections": [],
      "machine_shape": "hm",
      "include_colab_link": true
    },
    "kernelspec": {
      "name": "python3",
      "display_name": "Python 3"
    },
    "language_info": {
      "name": "python"
    },
    "accelerator": "GPU"
  },
  "cells": [
    {
      "cell_type": "markdown",
      "metadata": {
        "id": "view-in-github",
        "colab_type": "text"
      },
      "source": [
        "<a href=\"https://colab.research.google.com/github/shivkumarganesh/Advance-Deep-Learning/blob/main/notebooks/neural_net/Inception.ipynb\" target=\"_parent\"><img src=\"https://colab.research.google.com/assets/colab-badge.svg\" alt=\"Open In Colab\"/></a>"
      ]
    },
    {
      "cell_type": "code",
      "metadata": {
        "id": "eGCGcKblj12O",
        "colab": {
          "base_uri": "https://localhost:8080/"
        },
        "outputId": "d0a6c651-c4be-427f-ab9f-a02e3a954277"
      },
      "source": [
        "from google.colab import drive\n",
        "drive.mount('/content/drive')"
      ],
      "execution_count": null,
      "outputs": [
        {
          "output_type": "stream",
          "name": "stdout",
          "text": [
            "Mounted at /content/drive\n"
          ]
        }
      ]
    },
    {
      "cell_type": "code",
      "metadata": {
        "id": "O2pF6KxybRBz"
      },
      "source": [
        "!unzip '/content/drive/Shareddrives/Final Project/FmriTrainTestData/Inception-Data/Output.zip' -d '/content/drive/Shareddrives/Final Project/FmriTrainTestData/Inception-Data/'"
      ],
      "execution_count": null,
      "outputs": []
    },
    {
      "cell_type": "code",
      "metadata": {
        "id": "g43fwvPrcZ4k"
      },
      "source": [
        "!rm -rf '/content/drive/Shareddrives/Final Project/FmriTrainTestData/Inception-Data/Output/__MACOSX'\n",
        "!rm -rf '/content/drive/Shareddrives/Final Project/FmriTrainTestData/Inception-Data/Output/train/.ipynb_checkpoints'\n",
        "!rm -rf '/content/drive/Shareddrives/Final Project/FmriTrainTestData/Inception-Data/Output/test/.ipynb_checkpoints'\n",
        "!rm -rf '/content/drive/Shareddrives/Final Project/FmriTrainTestData/Inception-Data/Output/val/.ipynb_checkpoints'"
      ],
      "execution_count": null,
      "outputs": []
    },
    {
      "cell_type": "code",
      "metadata": {
        "id": "LpAuvsvicpmw"
      },
      "source": [
        "import os \n",
        "import zipfile \n",
        "import tensorflow as tf \n",
        "from tensorflow.keras.preprocessing.image import ImageDataGenerator \n",
        "from tensorflow.keras import layers \n",
        "from tensorflow.keras import Model \n",
        "import matplotlib.pyplot as plt"
      ],
      "execution_count": null,
      "outputs": []
    },
    {
      "cell_type": "code",
      "metadata": {
        "id": "rv3coY3qcqzB"
      },
      "source": [
        "# Add our data-augmentation parameters to ImageDataGenerator\n",
        "train_datagen = ImageDataGenerator(rescale = 1./255., rotation_range = 40, width_shift_range = 0.2, height_shift_range = 0.2,shear_range = 0.2, zoom_range = 0.2, horizontal_flip = True)\n",
        "\n",
        "test_datagen = ImageDataGenerator( rescale = 1.0/255. )"
      ],
      "execution_count": null,
      "outputs": []
    },
    {
      "cell_type": "code",
      "metadata": {
        "colab": {
          "base_uri": "https://localhost:8080/"
        },
        "id": "fGiPGtdTcwDE",
        "outputId": "22704513-6e14-4377-9293-411f80456cce"
      },
      "source": [
        "train_generator = train_datagen.flow_from_directory('/content/drive/Shareddrives/Final Project/FmriTrainTestData/Inception-Data/Output/train', batch_size = 20, class_mode = 'binary', target_size = (150, 150))\n",
        "validation_generator = test_datagen.flow_from_directory('/content/drive/Shareddrives/Final Project/FmriTrainTestData/Inception-Data/Output/test', batch_size = 20, class_mode = 'binary', target_size = (150, 150))"
      ],
      "execution_count": null,
      "outputs": [
        {
          "output_type": "stream",
          "name": "stdout",
          "text": [
            "Found 6968 images belonging to 2 classes.\n",
            "Found 871 images belonging to 2 classes.\n"
          ]
        }
      ]
    },
    {
      "cell_type": "code",
      "metadata": {
        "id": "fIEWt9JTczlg"
      },
      "source": [
        "from tensorflow.keras.applications.inception_v3 import InceptionV3\n",
        "base_model = InceptionV3(input_shape = (150, 150, 3), include_top = False, weights = 'imagenet')"
      ],
      "execution_count": null,
      "outputs": []
    },
    {
      "cell_type": "code",
      "metadata": {
        "id": "gyYzlcrDc4as"
      },
      "source": [
        "for layer in base_model.layers:\n",
        "    layer.trainable = False"
      ],
      "execution_count": null,
      "outputs": []
    },
    {
      "cell_type": "code",
      "metadata": {
        "id": "D4Oppg-9c6Lb"
      },
      "source": [
        "from tensorflow.keras.optimizers import RMSprop\n",
        "\n",
        "x = layers.Flatten()(base_model.output)\n",
        "x = layers.Dense(1024, activation='relu')(x)\n",
        "x = layers.Dropout(0.15)(x)\n",
        "\n",
        "# Add a final sigmoid layer with 1 node for classification output\n",
        "x = layers.Dense(1, activation='sigmoid')(x)\n",
        "\n",
        "model = tf.keras.models.Model(base_model.input, x)\n",
        "\n",
        "model.compile(optimizer = RMSprop(learning_rate=0.0001), loss = 'binary_crossentropy', metrics = ['acc'])"
      ],
      "execution_count": null,
      "outputs": []
    },
    {
      "cell_type": "code",
      "metadata": {
        "colab": {
          "base_uri": "https://localhost:8080/"
        },
        "id": "63VSediPc9ag",
        "outputId": "4109f4e0-a0c1-49f6-bf39-02b9a1fb54e8"
      },
      "source": [
        "inc_history = model.fit(train_generator, validation_data = validation_generator, steps_per_epoch = 100, epochs = 100)"
      ],
      "execution_count": null,
      "outputs": [
        {
          "output_type": "stream",
          "name": "stdout",
          "text": [
            "Epoch 1/100\n",
            "100/100 [==============================] - 14s 138ms/step - loss: 0.6912 - acc: 0.5478 - val_loss: 0.7154 - val_acc: 0.5327\n",
            "Epoch 2/100\n",
            "100/100 [==============================] - 14s 137ms/step - loss: 0.7006 - acc: 0.5448 - val_loss: 0.6951 - val_acc: 0.5327\n",
            "Epoch 3/100\n",
            "100/100 [==============================] - 14s 137ms/step - loss: 0.6999 - acc: 0.5185 - val_loss: 0.7126 - val_acc: 0.4638\n",
            "Epoch 4/100\n",
            "100/100 [==============================] - 14s 137ms/step - loss: 0.6991 - acc: 0.5115 - val_loss: 0.7058 - val_acc: 0.4730\n",
            "Epoch 5/100\n",
            "100/100 [==============================] - 14s 142ms/step - loss: 0.7010 - acc: 0.5215 - val_loss: 0.6948 - val_acc: 0.5201\n",
            "Epoch 6/100\n",
            "100/100 [==============================] - 14s 139ms/step - loss: 0.6982 - acc: 0.5230 - val_loss: 0.6913 - val_acc: 0.5419\n",
            "Epoch 7/100\n",
            "100/100 [==============================] - 14s 137ms/step - loss: 0.6957 - acc: 0.5312 - val_loss: 0.6905 - val_acc: 0.5465\n",
            "Epoch 8/100\n",
            "100/100 [==============================] - 14s 137ms/step - loss: 0.6941 - acc: 0.5297 - val_loss: 0.6879 - val_acc: 0.5557\n",
            "Epoch 9/100\n",
            "100/100 [==============================] - 14s 138ms/step - loss: 0.6881 - acc: 0.5510 - val_loss: 0.6912 - val_acc: 0.5454\n",
            "Epoch 10/100\n",
            "100/100 [==============================] - 14s 136ms/step - loss: 0.6950 - acc: 0.5322 - val_loss: 0.6940 - val_acc: 0.5224\n",
            "Epoch 11/100\n",
            "100/100 [==============================] - 14s 137ms/step - loss: 0.6929 - acc: 0.5285 - val_loss: 0.7082 - val_acc: 0.5339\n",
            "Epoch 12/100\n",
            "100/100 [==============================] - 14s 142ms/step - loss: 0.6956 - acc: 0.5367 - val_loss: 0.6953 - val_acc: 0.5431\n",
            "Epoch 13/100\n",
            "100/100 [==============================] - 14s 138ms/step - loss: 0.6910 - acc: 0.5480 - val_loss: 0.6927 - val_acc: 0.5396\n",
            "Epoch 14/100\n",
            "100/100 [==============================] - 14s 139ms/step - loss: 0.6930 - acc: 0.5260 - val_loss: 0.6918 - val_acc: 0.5385\n",
            "Epoch 15/100\n",
            "100/100 [==============================] - 14s 135ms/step - loss: 0.6891 - acc: 0.5468 - val_loss: 0.6993 - val_acc: 0.4971\n",
            "Epoch 16/100\n",
            "100/100 [==============================] - 14s 136ms/step - loss: 0.6990 - acc: 0.5116 - val_loss: 0.6915 - val_acc: 0.5465\n",
            "Epoch 17/100\n",
            "100/100 [==============================] - 14s 137ms/step - loss: 0.6913 - acc: 0.5295 - val_loss: 0.7156 - val_acc: 0.5362\n",
            "Epoch 18/100\n",
            "100/100 [==============================] - 14s 138ms/step - loss: 0.6984 - acc: 0.5185 - val_loss: 0.6887 - val_acc: 0.5568\n",
            "Epoch 19/100\n",
            "100/100 [==============================] - 14s 137ms/step - loss: 0.6922 - acc: 0.5493 - val_loss: 0.6878 - val_acc: 0.5557\n",
            "Epoch 20/100\n",
            "100/100 [==============================] - 14s 136ms/step - loss: 0.6929 - acc: 0.5180 - val_loss: 0.7032 - val_acc: 0.5362\n",
            "Epoch 21/100\n",
            "100/100 [==============================] - 14s 137ms/step - loss: 0.6949 - acc: 0.5235 - val_loss: 0.6898 - val_acc: 0.5522\n",
            "Epoch 22/100\n",
            "100/100 [==============================] - 14s 138ms/step - loss: 0.6912 - acc: 0.5400 - val_loss: 0.6912 - val_acc: 0.5465\n",
            "Epoch 23/100\n",
            "100/100 [==============================] - 14s 138ms/step - loss: 0.6922 - acc: 0.5282 - val_loss: 0.7066 - val_acc: 0.5396\n",
            "Epoch 24/100\n",
            "100/100 [==============================] - 14s 137ms/step - loss: 0.6935 - acc: 0.5335 - val_loss: 0.6896 - val_acc: 0.5339\n",
            "Epoch 25/100\n",
            "100/100 [==============================] - 14s 138ms/step - loss: 0.6973 - acc: 0.5280 - val_loss: 0.6875 - val_acc: 0.5557\n",
            "Epoch 26/100\n",
            "100/100 [==============================] - 14s 138ms/step - loss: 0.6934 - acc: 0.5295 - val_loss: 0.6927 - val_acc: 0.5373\n",
            "Epoch 27/100\n",
            "100/100 [==============================] - 14s 139ms/step - loss: 0.7013 - acc: 0.5065 - val_loss: 0.6910 - val_acc: 0.5454\n",
            "Epoch 28/100\n",
            "100/100 [==============================] - 14s 141ms/step - loss: 0.6935 - acc: 0.5420 - val_loss: 0.6890 - val_acc: 0.5258\n",
            "Epoch 29/100\n",
            "100/100 [==============================] - 14s 137ms/step - loss: 0.6942 - acc: 0.5345 - val_loss: 0.6932 - val_acc: 0.5075\n",
            "Epoch 30/100\n",
            "100/100 [==============================] - 14s 137ms/step - loss: 0.6903 - acc: 0.5470 - val_loss: 0.6931 - val_acc: 0.5362\n",
            "Epoch 31/100\n",
            "100/100 [==============================] - 14s 137ms/step - loss: 0.6911 - acc: 0.5540 - val_loss: 0.6929 - val_acc: 0.5408\n",
            "Epoch 32/100\n",
            "100/100 [==============================] - 14s 137ms/step - loss: 0.6965 - acc: 0.5260 - val_loss: 0.6919 - val_acc: 0.5396\n",
            "Epoch 33/100\n",
            "100/100 [==============================] - 14s 136ms/step - loss: 0.6920 - acc: 0.5362 - val_loss: 0.6914 - val_acc: 0.5270\n",
            "Epoch 34/100\n",
            "100/100 [==============================] - 14s 136ms/step - loss: 0.6927 - acc: 0.5225 - val_loss: 0.6893 - val_acc: 0.5534\n",
            "Epoch 35/100\n",
            "100/100 [==============================] - 14s 138ms/step - loss: 0.6964 - acc: 0.5195 - val_loss: 0.6906 - val_acc: 0.5304\n",
            "Epoch 36/100\n",
            "100/100 [==============================] - 14s 138ms/step - loss: 0.6925 - acc: 0.5345 - val_loss: 0.6960 - val_acc: 0.5258\n",
            "Epoch 37/100\n",
            "100/100 [==============================] - 14s 137ms/step - loss: 0.6938 - acc: 0.5520 - val_loss: 0.6929 - val_acc: 0.5155\n",
            "Epoch 38/100\n",
            "100/100 [==============================] - 14s 136ms/step - loss: 0.6894 - acc: 0.5505 - val_loss: 0.6867 - val_acc: 0.5603\n",
            "Epoch 39/100\n",
            "100/100 [==============================] - 14s 139ms/step - loss: 0.6871 - acc: 0.5430 - val_loss: 0.6893 - val_acc: 0.5488\n",
            "Epoch 40/100\n",
            "100/100 [==============================] - 14s 137ms/step - loss: 0.6958 - acc: 0.5418 - val_loss: 0.6918 - val_acc: 0.5373\n",
            "Epoch 41/100\n",
            "100/100 [==============================] - 14s 137ms/step - loss: 0.6895 - acc: 0.5488 - val_loss: 0.6902 - val_acc: 0.5373\n",
            "Epoch 42/100\n",
            "100/100 [==============================] - 14s 137ms/step - loss: 0.6922 - acc: 0.5340 - val_loss: 0.6891 - val_acc: 0.5362\n",
            "Epoch 43/100\n",
            "100/100 [==============================] - 14s 135ms/step - loss: 0.6933 - acc: 0.5270 - val_loss: 0.6930 - val_acc: 0.5281\n",
            "Epoch 44/100\n",
            "100/100 [==============================] - 14s 138ms/step - loss: 0.6897 - acc: 0.5550 - val_loss: 0.7009 - val_acc: 0.4994\n",
            "Epoch 45/100\n",
            "100/100 [==============================] - 14s 137ms/step - loss: 0.6945 - acc: 0.5280 - val_loss: 0.6912 - val_acc: 0.5362\n",
            "Epoch 46/100\n",
            "100/100 [==============================] - 14s 137ms/step - loss: 0.6931 - acc: 0.5425 - val_loss: 0.6895 - val_acc: 0.5247\n",
            "Epoch 47/100\n",
            "100/100 [==============================] - 14s 139ms/step - loss: 0.6918 - acc: 0.5372 - val_loss: 0.7039 - val_acc: 0.5327\n",
            "Epoch 48/100\n",
            "100/100 [==============================] - 14s 137ms/step - loss: 0.6963 - acc: 0.5175 - val_loss: 0.6947 - val_acc: 0.5166\n",
            "Epoch 49/100\n",
            "100/100 [==============================] - 14s 136ms/step - loss: 0.6900 - acc: 0.5327 - val_loss: 0.7024 - val_acc: 0.5052\n",
            "Epoch 50/100\n",
            "100/100 [==============================] - 17s 166ms/step - loss: 0.6904 - acc: 0.5365 - val_loss: 0.6962 - val_acc: 0.5431\n",
            "Epoch 51/100\n",
            "100/100 [==============================] - 14s 139ms/step - loss: 0.6922 - acc: 0.5405 - val_loss: 0.6932 - val_acc: 0.5373\n",
            "Epoch 52/100\n",
            "100/100 [==============================] - 14s 136ms/step - loss: 0.6925 - acc: 0.5410 - val_loss: 0.6881 - val_acc: 0.5454\n",
            "Epoch 53/100\n",
            "100/100 [==============================] - 14s 140ms/step - loss: 0.6929 - acc: 0.5355 - val_loss: 0.6972 - val_acc: 0.5086\n",
            "Epoch 54/100\n",
            "100/100 [==============================] - 14s 137ms/step - loss: 0.6950 - acc: 0.5070 - val_loss: 0.6879 - val_acc: 0.5304\n",
            "Epoch 55/100\n",
            "100/100 [==============================] - 14s 140ms/step - loss: 0.6898 - acc: 0.5570 - val_loss: 0.6887 - val_acc: 0.5476\n",
            "Epoch 56/100\n",
            "100/100 [==============================] - 14s 137ms/step - loss: 0.6937 - acc: 0.5305 - val_loss: 0.6910 - val_acc: 0.5431\n",
            "Epoch 57/100\n",
            "100/100 [==============================] - 14s 137ms/step - loss: 0.6984 - acc: 0.5241 - val_loss: 0.6893 - val_acc: 0.5304\n",
            "Epoch 58/100\n",
            "100/100 [==============================] - 14s 136ms/step - loss: 0.6914 - acc: 0.5267 - val_loss: 0.6971 - val_acc: 0.5327\n",
            "Epoch 59/100\n",
            "100/100 [==============================] - 14s 137ms/step - loss: 0.6945 - acc: 0.5367 - val_loss: 0.6905 - val_acc: 0.5258\n",
            "Epoch 60/100\n",
            "100/100 [==============================] - 14s 137ms/step - loss: 0.6909 - acc: 0.5460 - val_loss: 0.6954 - val_acc: 0.5454\n",
            "Epoch 61/100\n",
            "100/100 [==============================] - 14s 144ms/step - loss: 0.6920 - acc: 0.5312 - val_loss: 0.6997 - val_acc: 0.5316\n",
            "Epoch 62/100\n",
            "100/100 [==============================] - 14s 135ms/step - loss: 0.6907 - acc: 0.5357 - val_loss: 0.6902 - val_acc: 0.5499\n",
            "Epoch 63/100\n",
            "100/100 [==============================] - 14s 137ms/step - loss: 0.6880 - acc: 0.5590 - val_loss: 0.6937 - val_acc: 0.5419\n",
            "Epoch 64/100\n",
            "100/100 [==============================] - 14s 137ms/step - loss: 0.6880 - acc: 0.5435 - val_loss: 0.6906 - val_acc: 0.5626\n",
            "Epoch 65/100\n",
            "100/100 [==============================] - 14s 135ms/step - loss: 0.6956 - acc: 0.5390 - val_loss: 0.6895 - val_acc: 0.5649\n",
            "Epoch 66/100\n",
            "100/100 [==============================] - 14s 138ms/step - loss: 0.6897 - acc: 0.5555 - val_loss: 0.6943 - val_acc: 0.5454\n",
            "Epoch 67/100\n",
            "100/100 [==============================] - 14s 136ms/step - loss: 0.6842 - acc: 0.5500 - val_loss: 0.7094 - val_acc: 0.5052\n",
            "Epoch 68/100\n",
            "100/100 [==============================] - 14s 135ms/step - loss: 0.6884 - acc: 0.5620 - val_loss: 0.6914 - val_acc: 0.5304\n",
            "Epoch 69/100\n",
            "100/100 [==============================] - 14s 136ms/step - loss: 0.6903 - acc: 0.5215 - val_loss: 0.6865 - val_acc: 0.5454\n",
            "Epoch 70/100\n",
            "100/100 [==============================] - 14s 137ms/step - loss: 0.6920 - acc: 0.5415 - val_loss: 0.6917 - val_acc: 0.5408\n",
            "Epoch 71/100\n",
            "100/100 [==============================] - 14s 139ms/step - loss: 0.6940 - acc: 0.5360 - val_loss: 0.6953 - val_acc: 0.5235\n",
            "Epoch 72/100\n",
            "100/100 [==============================] - 14s 139ms/step - loss: 0.6946 - acc: 0.5275 - val_loss: 0.6934 - val_acc: 0.5454\n",
            "Epoch 73/100\n",
            "100/100 [==============================] - 14s 136ms/step - loss: 0.6922 - acc: 0.5410 - val_loss: 0.6895 - val_acc: 0.5591\n",
            "Epoch 74/100\n",
            "100/100 [==============================] - 14s 136ms/step - loss: 0.6896 - acc: 0.5488 - val_loss: 0.6883 - val_acc: 0.5626\n",
            "Epoch 75/100\n",
            "100/100 [==============================] - 14s 138ms/step - loss: 0.6941 - acc: 0.5440 - val_loss: 0.6903 - val_acc: 0.5511\n",
            "Epoch 76/100\n",
            "100/100 [==============================] - 14s 136ms/step - loss: 0.6921 - acc: 0.5510 - val_loss: 0.6890 - val_acc: 0.5626\n",
            "Epoch 77/100\n",
            "100/100 [==============================] - 14s 137ms/step - loss: 0.6862 - acc: 0.5515 - val_loss: 0.6946 - val_acc: 0.5534\n",
            "Epoch 78/100\n",
            "100/100 [==============================] - 14s 138ms/step - loss: 0.6931 - acc: 0.5463 - val_loss: 0.6928 - val_acc: 0.5224\n",
            "Epoch 79/100\n",
            "100/100 [==============================] - 14s 135ms/step - loss: 0.6918 - acc: 0.5530 - val_loss: 0.6921 - val_acc: 0.5293\n",
            "Epoch 80/100\n",
            "100/100 [==============================] - 14s 136ms/step - loss: 0.6948 - acc: 0.5315 - val_loss: 0.6965 - val_acc: 0.5350\n",
            "Epoch 81/100\n",
            "100/100 [==============================] - 13s 135ms/step - loss: 0.6919 - acc: 0.5345 - val_loss: 0.6982 - val_acc: 0.5454\n",
            "Epoch 82/100\n",
            "100/100 [==============================] - 14s 136ms/step - loss: 0.6901 - acc: 0.5533 - val_loss: 0.6935 - val_acc: 0.5373\n",
            "Epoch 83/100\n",
            "100/100 [==============================] - 14s 137ms/step - loss: 0.6892 - acc: 0.5245 - val_loss: 0.6933 - val_acc: 0.5350\n",
            "Epoch 84/100\n",
            "100/100 [==============================] - 14s 137ms/step - loss: 0.6875 - acc: 0.5575 - val_loss: 0.6924 - val_acc: 0.5408\n",
            "Epoch 85/100\n",
            "100/100 [==============================] - 14s 136ms/step - loss: 0.6871 - acc: 0.5555 - val_loss: 0.7003 - val_acc: 0.5385\n",
            "Epoch 86/100\n",
            "100/100 [==============================] - 13s 135ms/step - loss: 0.6914 - acc: 0.5478 - val_loss: 0.6931 - val_acc: 0.5419\n",
            "Epoch 87/100\n",
            "100/100 [==============================] - 14s 137ms/step - loss: 0.6940 - acc: 0.5325 - val_loss: 0.6905 - val_acc: 0.5465\n",
            "Epoch 88/100\n",
            "100/100 [==============================] - 14s 138ms/step - loss: 0.6913 - acc: 0.5415 - val_loss: 0.6895 - val_acc: 0.5557\n",
            "Epoch 89/100\n",
            "100/100 [==============================] - 14s 136ms/step - loss: 0.6903 - acc: 0.5445 - val_loss: 0.6902 - val_acc: 0.5304\n",
            "Epoch 90/100\n",
            "100/100 [==============================] - 14s 137ms/step - loss: 0.6969 - acc: 0.5210 - val_loss: 0.6943 - val_acc: 0.5132\n",
            "Epoch 91/100\n",
            "100/100 [==============================] - 14s 136ms/step - loss: 0.6853 - acc: 0.5503 - val_loss: 0.6912 - val_acc: 0.5270\n",
            "Epoch 92/100\n",
            "100/100 [==============================] - 14s 137ms/step - loss: 0.6894 - acc: 0.5325 - val_loss: 0.7057 - val_acc: 0.5373\n",
            "Epoch 93/100\n",
            "100/100 [==============================] - 14s 138ms/step - loss: 0.6943 - acc: 0.5470 - val_loss: 0.6926 - val_acc: 0.5419\n",
            "Epoch 94/100\n",
            "100/100 [==============================] - 14s 138ms/step - loss: 0.6918 - acc: 0.5340 - val_loss: 0.6923 - val_acc: 0.5258\n",
            "Epoch 95/100\n",
            "100/100 [==============================] - 14s 140ms/step - loss: 0.6880 - acc: 0.5645 - val_loss: 0.6897 - val_acc: 0.5511\n",
            "Epoch 96/100\n",
            "100/100 [==============================] - 14s 136ms/step - loss: 0.6889 - acc: 0.5400 - val_loss: 0.6886 - val_acc: 0.5557\n",
            "Epoch 97/100\n",
            "100/100 [==============================] - 14s 137ms/step - loss: 0.6920 - acc: 0.5370 - val_loss: 0.6901 - val_acc: 0.5281\n",
            "Epoch 98/100\n",
            "100/100 [==============================] - 14s 136ms/step - loss: 0.6912 - acc: 0.5440 - val_loss: 0.6942 - val_acc: 0.5362\n",
            "Epoch 99/100\n",
            "100/100 [==============================] - 14s 137ms/step - loss: 0.7009 - acc: 0.5260 - val_loss: 0.6964 - val_acc: 0.5155\n",
            "Epoch 100/100\n",
            "100/100 [==============================] - 14s 136ms/step - loss: 0.6916 - acc: 0.5370 - val_loss: 0.6876 - val_acc: 0.5522\n"
          ]
        }
      ]
    },
    {
      "cell_type": "code",
      "metadata": {
        "id": "811Gj0D0hzqK"
      },
      "source": [
        ""
      ],
      "execution_count": null,
      "outputs": []
    }
  ]
}