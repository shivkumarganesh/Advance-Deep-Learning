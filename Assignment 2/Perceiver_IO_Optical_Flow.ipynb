{
  "nbformat": 4,
  "nbformat_minor": 0,
  "metadata": {
    "colab": {
      "name": "Perceiver IO Optical Flow.ipynb",
      "provenance": [],
      "collapsed_sections": [],
      "authorship_tag": "ABX9TyMYSJN+fMxot1nIhX2Fo/BM",
      "include_colab_link": true
    },
    "kernelspec": {
      "name": "python3",
      "display_name": "Python 3"
    },
    "language_info": {
      "name": "python"
    },
    "accelerator": "GPU"
  },
  "cells": [
    {
      "cell_type": "markdown",
      "metadata": {
        "id": "view-in-github",
        "colab_type": "text"
      },
      "source": [
        "<a href=\"https://colab.research.google.com/github/shivkumarganesh/Advance-Deep-Learning/blob/main/Assignment%202/Perceiver_IO_Optical_Flow.ipynb\" target=\"_parent\"><img src=\"https://colab.research.google.com/assets/colab-badge.svg\" alt=\"Open In Colab\"/></a>"
      ]
    },
    {
      "cell_type": "markdown",
      "metadata": {
        "id": "xCicibHg1xCm"
      },
      "source": [
        "# Pre-requisite"
      ]
    },
    {
      "cell_type": "code",
      "metadata": {
        "colab": {
          "base_uri": "https://localhost:8080/"
        },
        "id": "-3PPrQpP0HKI",
        "outputId": "50f1ac51-bf8a-43da-b4fd-3a540bb07123"
      },
      "source": [
        "!pip install dm-haiku\n",
        "!pip install einops\n",
        "\n",
        "!mkdir /content/perceiver\n",
        "!touch /content/perceiver/__init__.py\n",
        "!wget -O /content/perceiver/io_processors.py https://raw.githubusercontent.com/deepmind/deepmind-research/master/perceiver/io_processors.py\n",
        "!wget -O /content/perceiver/perceiver.py https://raw.githubusercontent.com/deepmind/deepmind-research/master/perceiver/perceiver.py\n",
        "!wget -O /content/perceiver/position_encoding.py https://raw.githubusercontent.com/deepmind/deepmind-research/master/perceiver/position_encoding.py"
      ],
      "execution_count": 11,
      "outputs": [
        {
          "output_type": "stream",
          "name": "stdout",
          "text": [
            "Requirement already satisfied: dm-haiku in /usr/local/lib/python3.7/dist-packages (0.0.4)\n",
            "Requirement already satisfied: tabulate>=0.8.9 in /usr/local/lib/python3.7/dist-packages (from dm-haiku) (0.8.9)\n",
            "Requirement already satisfied: absl-py>=0.7.1 in /usr/local/lib/python3.7/dist-packages (from dm-haiku) (0.12.0)\n",
            "Requirement already satisfied: typing-extensions in /usr/local/lib/python3.7/dist-packages (from dm-haiku) (3.7.4.3)\n",
            "Requirement already satisfied: numpy>=1.18.0 in /usr/local/lib/python3.7/dist-packages (from dm-haiku) (1.19.5)\n",
            "Requirement already satisfied: six in /usr/local/lib/python3.7/dist-packages (from absl-py>=0.7.1->dm-haiku) (1.15.0)\n",
            "Requirement already satisfied: einops in /usr/local/lib/python3.7/dist-packages (0.3.2)\n",
            "mkdir: cannot create directory ‘/content/perceiver’: File exists\n",
            "--2021-10-10 06:18:08--  https://raw.githubusercontent.com/deepmind/deepmind-research/master/perceiver/io_processors.py\n",
            "Resolving raw.githubusercontent.com (raw.githubusercontent.com)... 185.199.109.133, 185.199.108.133, 185.199.110.133, ...\n",
            "Connecting to raw.githubusercontent.com (raw.githubusercontent.com)|185.199.109.133|:443... connected.\n",
            "HTTP request sent, awaiting response... 200 OK\n",
            "Length: 29359 (29K) [text/plain]\n",
            "Saving to: ‘/content/perceiver/io_processors.py’\n",
            "\n",
            "/content/perceiver/ 100%[===================>]  28.67K  --.-KB/s    in 0s      \n",
            "\n",
            "2021-10-10 06:18:08 (69.3 MB/s) - ‘/content/perceiver/io_processors.py’ saved [29359/29359]\n",
            "\n",
            "--2021-10-10 06:18:08--  https://raw.githubusercontent.com/deepmind/deepmind-research/master/perceiver/perceiver.py\n",
            "Resolving raw.githubusercontent.com (raw.githubusercontent.com)... 185.199.109.133, 185.199.111.133, 185.199.108.133, ...\n",
            "Connecting to raw.githubusercontent.com (raw.githubusercontent.com)|185.199.109.133|:443... connected.\n",
            "HTTP request sent, awaiting response... 200 OK\n",
            "Length: 30179 (29K) [text/plain]\n",
            "Saving to: ‘/content/perceiver/perceiver.py’\n",
            "\n",
            "/content/perceiver/ 100%[===================>]  29.47K  --.-KB/s    in 0s      \n",
            "\n",
            "2021-10-10 06:18:09 (78.7 MB/s) - ‘/content/perceiver/perceiver.py’ saved [30179/30179]\n",
            "\n",
            "--2021-10-10 06:18:09--  https://raw.githubusercontent.com/deepmind/deepmind-research/master/perceiver/position_encoding.py\n",
            "Resolving raw.githubusercontent.com (raw.githubusercontent.com)... 185.199.109.133, 185.199.111.133, 185.199.108.133, ...\n",
            "Connecting to raw.githubusercontent.com (raw.githubusercontent.com)|185.199.109.133|:443... connected.\n",
            "HTTP request sent, awaiting response... 200 OK\n",
            "Length: 8107 (7.9K) [text/plain]\n",
            "Saving to: ‘/content/perceiver/position_encoding.py’\n",
            "\n",
            "/content/perceiver/ 100%[===================>]   7.92K  --.-KB/s    in 0s      \n",
            "\n",
            "2021-10-10 06:18:09 (48.3 MB/s) - ‘/content/perceiver/position_encoding.py’ saved [8107/8107]\n",
            "\n"
          ]
        }
      ]
    },
    {
      "cell_type": "markdown",
      "metadata": {
        "id": "5JaCD6fA10q4"
      },
      "source": [
        "#Importing useful frunctions"
      ]
    },
    {
      "cell_type": "code",
      "metadata": {
        "id": "FVAlpC2X0IUa"
      },
      "source": [
        "#IMPORTS\n",
        "import functools\n",
        "import itertools\n",
        "import pickle\n",
        "\n",
        "import haiku as hk\n",
        "import jax\n",
        "import jax.numpy as jnp\n",
        "import matplotlib.pyplot as plt\n",
        "import numpy as np\n",
        "\n",
        "import cv2\n",
        "import imageio\n",
        "\n",
        "from perceiver import perceiver, io_processors"
      ],
      "execution_count": 12,
      "outputs": []
    },
    {
      "cell_type": "markdown",
      "metadata": {
        "id": "JUOabyvx2acL"
      },
      "source": [
        "# Perceiver Optical Flow Model Creation"
      ]
    },
    {
      "cell_type": "code",
      "metadata": {
        "id": "cNm2r0Zj0L18"
      },
      "source": [
        "# MODEL CREATION\n",
        "FLOW_SCALE_FACTOR = 20\n",
        "# The network assumes images are of the following size\n",
        "TRAIN_SIZE = (368, 496)\n",
        "\n",
        "def optical_flow(images):\n",
        "  \"\"\"Perceiver IO model for optical flow.\n",
        "\n",
        "  Args:\n",
        "    images: Array of two stacked images, of shape [B, 2, H, W, C]\n",
        "  Returns:\n",
        "    Optical flow field, of shape [B, H, W, 2].\n",
        "  \"\"\"\n",
        "  input_preprocessor = io_processors.ImagePreprocessor(\n",
        "      position_encoding_type='fourier',\n",
        "      fourier_position_encoding_kwargs=dict(\n",
        "          num_bands=64,\n",
        "          max_resolution=TRAIN_SIZE,\n",
        "          sine_only=False,\n",
        "          concat_pos=True,\n",
        "      ),\n",
        "      n_extra_pos_mlp=0,\n",
        "      prep_type='patches',\n",
        "      spatial_downsample=1,\n",
        "      conv_after_patching=True,\n",
        "      temporal_downsample=2)\n",
        "\n",
        "  encoder = encoder = perceiver.PerceiverEncoder(\n",
        "      num_self_attends_per_block=24,\n",
        "      # Weights won't be shared if num_blocks is set to 1.\n",
        "      num_blocks=1,\n",
        "      z_index_dim=2048,\n",
        "      num_cross_attend_heads=1,\n",
        "      num_z_channels=512,\n",
        "      num_self_attend_heads=16,\n",
        "      cross_attend_widening_factor=1,\n",
        "      self_attend_widening_factor=1,\n",
        "      dropout_prob=0.0,\n",
        "      z_pos_enc_init_scale=0.02,\n",
        "      cross_attention_shape_for_attn='kv',\n",
        "      name='perceiver_encoder')\n",
        "\n",
        "  decoder = perceiver.FlowDecoder(\n",
        "      TRAIN_SIZE,\n",
        "      rescale_factor=100.0,\n",
        "      use_query_residual=False,\n",
        "      output_num_channels=2,\n",
        "      output_w_init=jnp.zeros,\n",
        "      # We query the decoder using the first frame features\n",
        "      # rather than a standard decoder position encoding.\n",
        "      position_encoding_type='fourier',\n",
        "      fourier_position_encoding_kwargs=dict(\n",
        "          concat_pos=True,\n",
        "          max_resolution=TRAIN_SIZE,\n",
        "          num_bands=64,\n",
        "          sine_only=False\n",
        "      )\n",
        "  )\n",
        "\n",
        "  model = perceiver.Perceiver(\n",
        "      input_preprocessor=input_preprocessor,\n",
        "      encoder=encoder,\n",
        "      decoder=decoder,\n",
        "      output_postprocessor=None)\n",
        "\n",
        "  return model(io_processors.patches_for_flow(images),\n",
        "               is_training=False) * FLOW_SCALE_FACTOR\n",
        "\n",
        "\n",
        "optical_flow = hk.transform(optical_flow)"
      ],
      "execution_count": 13,
      "outputs": []
    },
    {
      "cell_type": "code",
      "metadata": {
        "id": "yurozj_P0SSr"
      },
      "source": [
        "#Function to compute flow between pairs of images\n",
        "_apply_optical_flow_model = jax.jit(optical_flow.apply)\n",
        "\n",
        "def compute_grid_indices(image_shape, patch_size=TRAIN_SIZE, min_overlap=20):\n",
        "  if min_overlap >= TRAIN_SIZE[0] or min_overlap >= TRAIN_SIZE[1]:\n",
        "    raise ValueError(\n",
        "        f\"Overlap should be less than size of patch (got {min_overlap}\"\n",
        "        f\"for patch size {patch_size}).\")\n",
        "  ys = list(range(0, image_shape[0], TRAIN_SIZE[0] - min_overlap))\n",
        "  xs = list(range(0, image_shape[1], TRAIN_SIZE[1] - min_overlap))\n",
        "  # Make sure the final patch is flush with the image boundary\n",
        "  ys[-1] = image_shape[0] - patch_size[0]\n",
        "  xs[-1] = image_shape[1] - patch_size[1]\n",
        "  return itertools.product(ys, xs)\n",
        "\n",
        "def compute_optical_flow(params, rng, img1, img2, grid_indices,\n",
        "                       patch_size=TRAIN_SIZE):\n",
        "  \"\"\"Function to compute optical flow between two images.\n",
        "\n",
        "  To compute the flow between images of arbitrary sizes, we divide the image\n",
        "  into patches, compute the flow for each patch, and stitch the flows together.\n",
        "\n",
        "  Args:\n",
        "    params: model parameters\n",
        "    rng: jax.random.PRNGKey, not used in this model\n",
        "    img1: first image\n",
        "    img2: second image\n",
        "    grid_indices: indices of the upper left corner for each patch.\n",
        "    patch_size: size of patch, should be TRAIN_SIZE.\n",
        "  \"\"\"\n",
        "  imgs = jnp.stack([img1, img2], axis=0)[None]\n",
        "  height = imgs.shape[-3]\n",
        "  width = imgs.shape[-2]\n",
        "\n",
        "  if height < patch_size[0]:\n",
        "    raise ValueError(\n",
        "        f\"Height of image (shape: {imgs.shape}) must be at least {patch_size[0]}.\"\n",
        "        \"Please pad or resize your image to the minimum dimension.\"\n",
        "    )\n",
        "  if width < patch_size[1]:\n",
        "    raise ValueError(\n",
        "        f\"Width of image (shape: {imgs.shape}) must be at least {patch_size[1]}.\"\n",
        "        \"Please pad or resize your image to the minimum dimension.\"\n",
        "    )\n",
        "\n",
        "  flows = 0\n",
        "  flow_count = 0\n",
        "\n",
        "  for y, x in grid_indices:\n",
        "    inp_piece = imgs[..., y : y + patch_size[0],\n",
        "                     x : x + patch_size[1], :]\n",
        "    flow_piece = _apply_optical_flow_model(params, rng, inp_piece)\n",
        "    weights_x, weights_y = jnp.meshgrid(\n",
        "        jnp.arange(patch_size[1]), jnp.arange(patch_size[0]))\n",
        "\n",
        "    weights_x = jnp.minimum(weights_x + 1, patch_size[1] - weights_x)\n",
        "    weights_y = jnp.minimum(weights_y + 1, patch_size[0] - weights_y)\n",
        "    weights = jnp.minimum(weights_x, weights_y)[jnp.newaxis, :, :,\n",
        "                                                jnp.newaxis]\n",
        "    padding = [(0, 0), (y, height - y - patch_size[0]),\n",
        "               (x, width - x - patch_size[1]), (0, 0)]\n",
        "    flows += jnp.pad(flow_piece * weights, padding)\n",
        "    flow_count += jnp.pad(weights, padding)\n",
        "\n",
        "  flows /= flow_count\n",
        "  return flows"
      ],
      "execution_count": 14,
      "outputs": []
    },
    {
      "cell_type": "code",
      "metadata": {
        "colab": {
          "base_uri": "https://localhost:8080/"
        },
        "id": "5T_QWmcK0Wk8",
        "outputId": "f684cda7-4b70-4858-d129-cfd5e8bcd0d4"
      },
      "source": [
        "#Load parameters from checkpoint\n",
        "\n",
        "!wget -O optical_flow_checkpoint.pystate https://storage.googleapis.com/perceiver_io/optical_flow_checkpoint.pystate\n",
        "\n",
        "rng = jax.random.PRNGKey(42)\n",
        "with open(\"optical_flow_checkpoint.pystate\", \"rb\") as f:\n",
        "  params = pickle.loads(f.read())\n",
        "\n",
        "state = {}"
      ],
      "execution_count": 15,
      "outputs": [
        {
          "output_type": "stream",
          "name": "stdout",
          "text": [
            "--2021-10-10 06:18:09--  https://storage.googleapis.com/perceiver_io/optical_flow_checkpoint.pystate\n",
            "Resolving storage.googleapis.com (storage.googleapis.com)... 74.125.133.128, 74.125.140.128, 173.194.76.128, ...\n",
            "Connecting to storage.googleapis.com (storage.googleapis.com)|74.125.133.128|:443... connected.\n",
            "HTTP request sent, awaiting response... 200 OK\n",
            "Length: 164271840 (157M) [application/octet-stream]\n",
            "Saving to: ‘optical_flow_checkpoint.pystate’\n",
            "\n",
            "optical_flow_checkp 100%[===================>] 156.66M   134MB/s    in 1.2s    \n",
            "\n",
            "2021-10-10 06:18:10 (134 MB/s) - ‘optical_flow_checkpoint.pystate’ saved [164271840/164271840]\n",
            "\n"
          ]
        }
      ]
    },
    {
      "cell_type": "code",
      "metadata": {
        "colab": {
          "base_uri": "https://localhost:8080/"
        },
        "id": "YOM3lOOG0Y6_",
        "outputId": "6f916e0d-f8a4-4013-af6e-46f2a0411dec"
      },
      "source": [
        "# Download two example frames from the Sintel dataset.\n",
        "\n",
        "!wget -O sintel_frame1.png https://storage.googleapis.com/perceiver_io/sintel_frame1.png\n",
        "!wget -O sintel_frame2.png https://storage.googleapis.com/perceiver_io/sintel_frame2.png\n",
        "\n",
        "with open(\"sintel_frame1.png\", \"rb\") as f:\n",
        "  im1 = imageio.imread(f)\n",
        "with open(\"sintel_frame2.png\", \"rb\") as f:\n",
        "  im2 = imageio.imread(f)"
      ],
      "execution_count": 16,
      "outputs": [
        {
          "output_type": "stream",
          "name": "stdout",
          "text": [
            "--2021-10-10 06:18:11--  https://storage.googleapis.com/perceiver_io/sintel_frame1.png\n",
            "Resolving storage.googleapis.com (storage.googleapis.com)... 142.251.5.128, 74.125.133.128, 74.125.140.128, ...\n",
            "Connecting to storage.googleapis.com (storage.googleapis.com)|142.251.5.128|:443... connected.\n",
            "HTTP request sent, awaiting response... 200 OK\n",
            "Length: 710411 (694K) [application/octet-stream]\n",
            "Saving to: ‘sintel_frame1.png’\n",
            "\n",
            "\rsintel_frame1.png     0%[                    ]       0  --.-KB/s               \rsintel_frame1.png   100%[===================>] 693.76K  --.-KB/s    in 0.007s  \n",
            "\n",
            "2021-10-10 06:18:11 (96.5 MB/s) - ‘sintel_frame1.png’ saved [710411/710411]\n",
            "\n",
            "--2021-10-10 06:18:11--  https://storage.googleapis.com/perceiver_io/sintel_frame2.png\n",
            "Resolving storage.googleapis.com (storage.googleapis.com)... 173.194.76.128, 66.102.1.128, 142.251.5.128, ...\n",
            "Connecting to storage.googleapis.com (storage.googleapis.com)|173.194.76.128|:443... connected.\n",
            "HTTP request sent, awaiting response... 200 OK\n",
            "Length: 712519 (696K) [application/octet-stream]\n",
            "Saving to: ‘sintel_frame2.png’\n",
            "\n",
            "sintel_frame2.png   100%[===================>] 695.82K  --.-KB/s    in 0.007s  \n",
            "\n",
            "2021-10-10 06:18:11 (92.5 MB/s) - ‘sintel_frame2.png’ saved [712519/712519]\n",
            "\n"
          ]
        }
      ]
    },
    {
      "cell_type": "code",
      "metadata": {
        "colab": {
          "base_uri": "https://localhost:8080/"
        },
        "id": "JmYrGXsj0beO",
        "outputId": "033a81c7-7389-4a3e-a235-b17e5b9af9ab"
      },
      "source": [
        "im1"
      ],
      "execution_count": 17,
      "outputs": [
        {
          "output_type": "execute_result",
          "data": {
            "text/plain": [
              "Array([[[10, 17, 19],\n",
              "        [12, 21, 22],\n",
              "        [14, 24, 26],\n",
              "        ...,\n",
              "        [22, 30, 31],\n",
              "        [15, 24, 26],\n",
              "        [27, 44, 47]],\n",
              "\n",
              "       [[10, 18, 19],\n",
              "        [12, 21, 22],\n",
              "        [14, 24, 26],\n",
              "        ...,\n",
              "        [21, 32, 34],\n",
              "        [17, 26, 28],\n",
              "        [15, 25, 26]],\n",
              "\n",
              "       [[11, 19, 20],\n",
              "        [13, 23, 25],\n",
              "        [15, 25, 27],\n",
              "        ...,\n",
              "        [24, 36, 38],\n",
              "        [21, 34, 36],\n",
              "        [24, 38, 40]],\n",
              "\n",
              "       ...,\n",
              "\n",
              "       [[12, 22, 25],\n",
              "        [14, 24, 27],\n",
              "        [23, 38, 44],\n",
              "        ...,\n",
              "        [29, 60, 68],\n",
              "        [29, 60, 68],\n",
              "        [31, 63, 71]],\n",
              "\n",
              "       [[11, 20, 23],\n",
              "        [13, 22, 25],\n",
              "        [22, 36, 41],\n",
              "        ...,\n",
              "        [28, 59, 67],\n",
              "        [26, 54, 62],\n",
              "        [25, 52, 58]],\n",
              "\n",
              "       [[11, 19, 22],\n",
              "        [12, 20, 24],\n",
              "        [16, 27, 31],\n",
              "        ...,\n",
              "        [29, 59, 68],\n",
              "        [28, 58, 66],\n",
              "        [24, 51, 58]]], dtype=uint8)"
            ]
          },
          "metadata": {},
          "execution_count": 17
        }
      ]
    },
    {
      "cell_type": "markdown",
      "metadata": {
        "id": "qrM717973PkM"
      },
      "source": [
        "# Image Utilities"
      ]
    },
    {
      "cell_type": "code",
      "metadata": {
        "id": "CGgkauN80eSW"
      },
      "source": [
        "#Image Utility Functions\n",
        "\n",
        "def normalize(im):\n",
        "  return im / 255.0 * 2 - 1\n",
        "\n",
        "def visualize_flow(flow):\n",
        "  flow = np.array(flow)\n",
        "  # Use Hue, Saturation, Value colour model \n",
        "  hsv = np.zeros((flow.shape[0], flow.shape[1], 3), dtype=np.uint8)\n",
        "  hsv[..., 2] = 255\n",
        "\n",
        "  mag, ang = cv2.cartToPolar(flow[..., 0], flow[..., 1])\n",
        "  hsv[..., 0] = ang / np.pi / 2 * 180\n",
        "  hsv[..., 1] = np.clip(mag * 255 / 24, 0, 255)\n",
        "  bgr = cv2.cvtColor(hsv, cv2.COLOR_HSV2BGR)\n",
        "  plt.imshow(bgr)"
      ],
      "execution_count": 18,
      "outputs": []
    },
    {
      "cell_type": "markdown",
      "metadata": {
        "id": "y9F26ZsK3NV_"
      },
      "source": [
        "# Running Model"
      ]
    },
    {
      "cell_type": "code",
      "metadata": {
        "id": "fRm9tMEW0hNS"
      },
      "source": [
        "# Compute optical flow\n",
        "\n",
        "grid_indices = compute_grid_indices(im1.shape)\n",
        "flow = compute_optical_flow(params, rng, normalize(im1), normalize(im2), grid_indices)"
      ],
      "execution_count": 19,
      "outputs": []
    },
    {
      "cell_type": "code",
      "metadata": {
        "colab": {
          "base_uri": "https://localhost:8080/",
          "height": 194
        },
        "id": "PSR3_AZG0kd8",
        "outputId": "93cd8fec-86b7-443b-cb6c-830a74e90b40"
      },
      "source": [
        "# Visualize the computed flow\n",
        "visualize_flow(flow[0])"
      ],
      "execution_count": 20,
      "outputs": [
        {
          "output_type": "display_data",
          "data": {
            "image/png": "[encoded data removed]",
            "text/plain": [
              "<Figure size 432x288 with 1 Axes>"
            ]
          },
          "metadata": {
            "needs_background": "light"
          }
        }
      ]
    }
  ]
}